{
 "cells": [
  {
   "cell_type": "markdown",
   "id": "8a32949d-69a8-4970-9417-847a177eff44",
   "metadata": {},
   "source": [
    "# SALES DATA CLEANING"
   ]
  },
  {
   "cell_type": "code",
   "execution_count": 55,
   "id": "97f5eda7-89a2-4aaa-a560-f8cc7c50de7e",
   "metadata": {},
   "outputs": [],
   "source": [
    "import pandas as pd\n",
    "import matplotlib.pyplot as plt"
   ]
  },
  {
   "cell_type": "code",
   "execution_count": 4,
   "id": "681f68d8-1c83-4bd1-90c1-c3226f3159c1",
   "metadata": {},
   "outputs": [
    {
     "name": "stderr",
     "output_type": "stream",
     "text": [
      "C:\\Users\\LENOVO\\AppData\\Local\\Temp\\ipykernel_9568\\4136742864.py:1: UserWarning: Could not infer format, so each element will be parsed individually, falling back to `dateutil`. To ensure parsing is consistent and as-expected, please specify a format.\n",
      "  df = pd.read_csv('sales_three.csv', parse_dates = ['Segment'])\n"
     ]
    }
   ],
   "source": [
    "df = pd.read_csv('sales_three.csv', parse_dates = ['Segment'])"
   ]
  },
  {
   "cell_type": "code",
   "execution_count": 5,
   "id": "2a086f11-d85c-40a4-89f4-f729fb1031f6",
   "metadata": {},
   "outputs": [
    {
     "data": {
      "text/html": [
       "<div>\n",
       "<style scoped>\n",
       "    .dataframe tbody tr th:only-of-type {\n",
       "        vertical-align: middle;\n",
       "    }\n",
       "\n",
       "    .dataframe tbody tr th {\n",
       "        vertical-align: top;\n",
       "    }\n",
       "\n",
       "    .dataframe thead th {\n",
       "        text-align: right;\n",
       "    }\n",
       "</style>\n",
       "<table border=\"1\" class=\"dataframe\">\n",
       "  <thead>\n",
       "    <tr style=\"text-align: right;\">\n",
       "      <th></th>\n",
       "      <th>Order ID</th>\n",
       "      <th>Segment</th>\n",
       "      <th>First Consumer</th>\n",
       "      <th>First Corporate</th>\n",
       "      <th>First Home Office</th>\n",
       "      <th>Same Consumer</th>\n",
       "      <th>Same Corporate</th>\n",
       "      <th>Same Home Office</th>\n",
       "      <th>Second Consumer</th>\n",
       "      <th>Second Corporate</th>\n",
       "      <th>Second Home Office</th>\n",
       "      <th>Standard Consumer</th>\n",
       "      <th>Standard Corporate</th>\n",
       "      <th>Standard Home Office</th>\n",
       "    </tr>\n",
       "  </thead>\n",
       "  <tbody>\n",
       "    <tr>\n",
       "      <th>0</th>\n",
       "      <td>CA-2011-100293</td>\n",
       "      <td>2013-03-14</td>\n",
       "      <td>NaN</td>\n",
       "      <td>NaN</td>\n",
       "      <td>NaN</td>\n",
       "      <td>NaN</td>\n",
       "      <td>NaN</td>\n",
       "      <td>NaN</td>\n",
       "      <td>NaN</td>\n",
       "      <td>NaN</td>\n",
       "      <td>NaN</td>\n",
       "      <td>NaN</td>\n",
       "      <td>NaN</td>\n",
       "      <td>91.056</td>\n",
       "    </tr>\n",
       "    <tr>\n",
       "      <th>1</th>\n",
       "      <td>CA-2011-100706</td>\n",
       "      <td>2013-12-16</td>\n",
       "      <td>NaN</td>\n",
       "      <td>NaN</td>\n",
       "      <td>NaN</td>\n",
       "      <td>NaN</td>\n",
       "      <td>NaN</td>\n",
       "      <td>NaN</td>\n",
       "      <td>129.44</td>\n",
       "      <td>NaN</td>\n",
       "      <td>NaN</td>\n",
       "      <td>NaN</td>\n",
       "      <td>NaN</td>\n",
       "      <td>NaN</td>\n",
       "    </tr>\n",
       "    <tr>\n",
       "      <th>2</th>\n",
       "      <td>CA-2011-100895</td>\n",
       "      <td>2013-06-02</td>\n",
       "      <td>NaN</td>\n",
       "      <td>NaN</td>\n",
       "      <td>NaN</td>\n",
       "      <td>NaN</td>\n",
       "      <td>NaN</td>\n",
       "      <td>NaN</td>\n",
       "      <td>NaN</td>\n",
       "      <td>NaN</td>\n",
       "      <td>NaN</td>\n",
       "      <td>605.47</td>\n",
       "      <td>NaN</td>\n",
       "      <td>NaN</td>\n",
       "    </tr>\n",
       "    <tr>\n",
       "      <th>3</th>\n",
       "      <td>CA-2011-100916</td>\n",
       "      <td>2013-10-21</td>\n",
       "      <td>NaN</td>\n",
       "      <td>NaN</td>\n",
       "      <td>NaN</td>\n",
       "      <td>NaN</td>\n",
       "      <td>NaN</td>\n",
       "      <td>NaN</td>\n",
       "      <td>NaN</td>\n",
       "      <td>NaN</td>\n",
       "      <td>NaN</td>\n",
       "      <td>NaN</td>\n",
       "      <td>788.86</td>\n",
       "      <td>NaN</td>\n",
       "    </tr>\n",
       "    <tr>\n",
       "      <th>4</th>\n",
       "      <td>CA-2011-101266</td>\n",
       "      <td>2013-08-27</td>\n",
       "      <td>NaN</td>\n",
       "      <td>NaN</td>\n",
       "      <td>NaN</td>\n",
       "      <td>NaN</td>\n",
       "      <td>NaN</td>\n",
       "      <td>NaN</td>\n",
       "      <td>13.36</td>\n",
       "      <td>NaN</td>\n",
       "      <td>NaN</td>\n",
       "      <td>NaN</td>\n",
       "      <td>NaN</td>\n",
       "      <td>NaN</td>\n",
       "    </tr>\n",
       "  </tbody>\n",
       "</table>\n",
       "</div>"
      ],
      "text/plain": [
       "         Order ID    Segment  First Consumer  First Corporate  \\\n",
       "0  CA-2011-100293 2013-03-14             NaN              NaN   \n",
       "1  CA-2011-100706 2013-12-16             NaN              NaN   \n",
       "2  CA-2011-100895 2013-06-02             NaN              NaN   \n",
       "3  CA-2011-100916 2013-10-21             NaN              NaN   \n",
       "4  CA-2011-101266 2013-08-27             NaN              NaN   \n",
       "\n",
       "   First Home Office  Same Consumer  Same Corporate  Same Home Office  \\\n",
       "0                NaN            NaN             NaN               NaN   \n",
       "1                NaN            NaN             NaN               NaN   \n",
       "2                NaN            NaN             NaN               NaN   \n",
       "3                NaN            NaN             NaN               NaN   \n",
       "4                NaN            NaN             NaN               NaN   \n",
       "\n",
       "   Second Consumer  Second Corporate  Second Home Office  Standard Consumer  \\\n",
       "0              NaN               NaN                 NaN                NaN   \n",
       "1           129.44               NaN                 NaN                NaN   \n",
       "2              NaN               NaN                 NaN             605.47   \n",
       "3              NaN               NaN                 NaN                NaN   \n",
       "4            13.36               NaN                 NaN                NaN   \n",
       "\n",
       "   Standard Corporate  Standard Home Office  \n",
       "0                 NaN                91.056  \n",
       "1                 NaN                   NaN  \n",
       "2                 NaN                   NaN  \n",
       "3              788.86                   NaN  \n",
       "4                 NaN                   NaN  "
      ]
     },
     "execution_count": 5,
     "metadata": {},
     "output_type": "execute_result"
    }
   ],
   "source": [
    "df.head()"
   ]
  },
  {
   "cell_type": "code",
   "execution_count": 6,
   "id": "0d0308a1-9a11-4eff-b885-c2d3936b3cc2",
   "metadata": {},
   "outputs": [
    {
     "name": "stdout",
     "output_type": "stream",
     "text": [
      "<class 'pandas.core.frame.DataFrame'>\n",
      "RangeIndex: 823 entries, 0 to 822\n",
      "Data columns (total 14 columns):\n",
      " #   Column                Non-Null Count  Dtype         \n",
      "---  ------                --------------  -----         \n",
      " 0   Order ID              823 non-null    object        \n",
      " 1   Segment               822 non-null    datetime64[ns]\n",
      " 2   First Consumer        73 non-null     float64       \n",
      " 3   First Corporate       41 non-null     float64       \n",
      " 4   First Home Office     13 non-null     float64       \n",
      " 5   Same Consumer         29 non-null     float64       \n",
      " 6   Same Corporate        6 non-null      float64       \n",
      " 7   Same Home Office      7 non-null      float64       \n",
      " 8   Second Consumer       92 non-null     float64       \n",
      " 9   Second Corporate      51 non-null     float64       \n",
      " 10  Second Home Office    24 non-null     float64       \n",
      " 11  Standard Consumer     254 non-null    float64       \n",
      " 12  Standard Corporate    153 non-null    float64       \n",
      " 13  Standard Home Office  91 non-null     float64       \n",
      "dtypes: datetime64[ns](1), float64(12), object(1)\n",
      "memory usage: 90.1+ KB\n"
     ]
    }
   ],
   "source": [
    "df.info()"
   ]
  },
  {
   "cell_type": "markdown",
   "id": "4b2f5bcb-5555-46b4-8e5e-5d6fabbb55c6",
   "metadata": {},
   "source": [
    "## For correct dates, dates should not be null, otherwise drop the null row"
   ]
  },
  {
   "cell_type": "code",
   "execution_count": 8,
   "id": "4079f7cd-1123-43f2-bd76-a33c2ccebb99",
   "metadata": {},
   "outputs": [],
   "source": [
    "df.dropna(subset = 'Segment', axis = 0, inplace = True)"
   ]
  },
  {
   "cell_type": "code",
   "execution_count": 9,
   "id": "fc23dbf3-70f9-472f-9eea-204c9668c3d4",
   "metadata": {},
   "outputs": [],
   "source": [
    "first_df = df.loc[:, ['Order ID', 'Segment', 'First Consumer', 'First Corporate', 'First Home Office']]\n",
    "same_df = df.loc[:, ['Order ID', 'Segment', 'Same Consumer', 'Same Corporate', 'Same Home Office']]\n",
    "second_df = df.loc[:, ['Order ID', 'Segment', 'Second Consumer', 'Second Corporate', 'Second Home Office']]\n",
    "standard_df = df.loc[:, ['Order ID', 'Segment', 'Standard Consumer', 'Standard Corporate', 'Standard Home Office']]"
   ]
  },
  {
   "cell_type": "code",
   "execution_count": 10,
   "id": "8dce7116-ed53-4e0e-982a-5d646e643d95",
   "metadata": {},
   "outputs": [
    {
     "data": {
      "text/html": [
       "<div>\n",
       "<style scoped>\n",
       "    .dataframe tbody tr th:only-of-type {\n",
       "        vertical-align: middle;\n",
       "    }\n",
       "\n",
       "    .dataframe tbody tr th {\n",
       "        vertical-align: top;\n",
       "    }\n",
       "\n",
       "    .dataframe thead th {\n",
       "        text-align: right;\n",
       "    }\n",
       "</style>\n",
       "<table border=\"1\" class=\"dataframe\">\n",
       "  <thead>\n",
       "    <tr style=\"text-align: right;\">\n",
       "      <th></th>\n",
       "      <th>Order ID</th>\n",
       "      <th>Segment</th>\n",
       "      <th>First Consumer</th>\n",
       "      <th>First Corporate</th>\n",
       "      <th>First Home Office</th>\n",
       "    </tr>\n",
       "  </thead>\n",
       "  <tbody>\n",
       "    <tr>\n",
       "      <th>0</th>\n",
       "      <td>CA-2011-100293</td>\n",
       "      <td>2013-03-14</td>\n",
       "      <td>NaN</td>\n",
       "      <td>NaN</td>\n",
       "      <td>NaN</td>\n",
       "    </tr>\n",
       "    <tr>\n",
       "      <th>1</th>\n",
       "      <td>CA-2011-100706</td>\n",
       "      <td>2013-12-16</td>\n",
       "      <td>NaN</td>\n",
       "      <td>NaN</td>\n",
       "      <td>NaN</td>\n",
       "    </tr>\n",
       "    <tr>\n",
       "      <th>2</th>\n",
       "      <td>CA-2011-100895</td>\n",
       "      <td>2013-06-02</td>\n",
       "      <td>NaN</td>\n",
       "      <td>NaN</td>\n",
       "      <td>NaN</td>\n",
       "    </tr>\n",
       "    <tr>\n",
       "      <th>3</th>\n",
       "      <td>CA-2011-100916</td>\n",
       "      <td>2013-10-21</td>\n",
       "      <td>NaN</td>\n",
       "      <td>NaN</td>\n",
       "      <td>NaN</td>\n",
       "    </tr>\n",
       "    <tr>\n",
       "      <th>4</th>\n",
       "      <td>CA-2011-101266</td>\n",
       "      <td>2013-08-27</td>\n",
       "      <td>NaN</td>\n",
       "      <td>NaN</td>\n",
       "      <td>NaN</td>\n",
       "    </tr>\n",
       "  </tbody>\n",
       "</table>\n",
       "</div>"
      ],
      "text/plain": [
       "         Order ID    Segment  First Consumer  First Corporate  \\\n",
       "0  CA-2011-100293 2013-03-14             NaN              NaN   \n",
       "1  CA-2011-100706 2013-12-16             NaN              NaN   \n",
       "2  CA-2011-100895 2013-06-02             NaN              NaN   \n",
       "3  CA-2011-100916 2013-10-21             NaN              NaN   \n",
       "4  CA-2011-101266 2013-08-27             NaN              NaN   \n",
       "\n",
       "   First Home Office  \n",
       "0                NaN  \n",
       "1                NaN  \n",
       "2                NaN  \n",
       "3                NaN  \n",
       "4                NaN  "
      ]
     },
     "execution_count": 10,
     "metadata": {},
     "output_type": "execute_result"
    }
   ],
   "source": [
    "first_df.head()"
   ]
  },
  {
   "cell_type": "code",
   "execution_count": 11,
   "id": "bb32a7f4-1e31-4db9-8d32-bd52f3b82b2c",
   "metadata": {},
   "outputs": [],
   "source": [
    "first_df['Ship_Mode'] = 'First Class'\n",
    "same_df['Ship_Mode'] = 'Same Day'\n",
    "second_df['Ship_Mode'] = 'Second day'\n",
    "standard_df['Ship_Mode'] = 'Standard Class'"
   ]
  },
  {
   "cell_type": "code",
   "execution_count": 12,
   "id": "55a9e23e-2d0c-45a9-b0a1-30a0ab7bad8f",
   "metadata": {},
   "outputs": [],
   "source": [
    "# dropping if the columns has more than two null values\n",
    "first_df.dropna(thresh = first_df.shape[1] - 2, axis = 0, inplace = True)\n",
    "same_df.dropna(thresh = same_df.shape[1] - 2, axis = 0, inplace = True)\n",
    "second_df.dropna(thresh = second_df.shape[1]- 2, axis = 0, inplace = True)\n",
    "standard_df.dropna(thresh = standard_df.shape[1]-2, axis = 0, inplace = True)"
   ]
  },
  {
   "cell_type": "code",
   "execution_count": 13,
   "id": "724f464d-2f46-4f6d-9883-77c29b5e7d36",
   "metadata": {},
   "outputs": [],
   "source": [
    "first_df.rename(columns = {'Segment': 'Order Date','First Consumer': 'Consumer', 'First Corporate': 'Corporate', 'First Home Office': 'Home Office'}, inplace = True)\n",
    "same_df.rename(columns = {'Segment': 'Order Date','Same Consumer': 'Consumer', 'Same Corporate': 'Corporate', 'Same Home Office': 'Home Office'}, inplace = True)\n",
    "second_df.rename(columns = {'Segment': 'Order Date','Second Consumer': 'Consumer', 'Second Corporate': 'Corporate', 'Second Home Office': 'Home Office'}, inplace = True)\n",
    "standard_df.rename(columns = {'Segment': 'Order Date','Standard Consumer': 'Consumer', 'Standard Corporate': 'Corporate', 'Standard Home Office': 'Home Office'}, inplace = True)"
   ]
  },
  {
   "cell_type": "code",
   "execution_count": 14,
   "id": "8f8b854b-110a-426f-b2a5-3f92156638ca",
   "metadata": {},
   "outputs": [],
   "source": [
    "first_df['Segment'] = first_df.apply(lambda row: row.dropna().index[2], axis = 1)\n",
    "same_df['Segment'] = same_df.apply(lambda row: row.dropna().index[2], axis = 1)\n",
    "second_df['Segment'] = second_df.apply(lambda row: row.dropna().index[2], axis = 1)\n",
    "standard_df['Segment'] = standard_df.apply(lambda row: row.dropna().index[2], axis = 1)"
   ]
  },
  {
   "cell_type": "code",
   "execution_count": 15,
   "id": "f610a34d-639f-4323-a853-de6380efba69",
   "metadata": {},
   "outputs": [
    {
     "data": {
      "text/html": [
       "<div>\n",
       "<style scoped>\n",
       "    .dataframe tbody tr th:only-of-type {\n",
       "        vertical-align: middle;\n",
       "    }\n",
       "\n",
       "    .dataframe tbody tr th {\n",
       "        vertical-align: top;\n",
       "    }\n",
       "\n",
       "    .dataframe thead th {\n",
       "        text-align: right;\n",
       "    }\n",
       "</style>\n",
       "<table border=\"1\" class=\"dataframe\">\n",
       "  <thead>\n",
       "    <tr style=\"text-align: right;\">\n",
       "      <th></th>\n",
       "      <th>Order ID</th>\n",
       "      <th>Order Date</th>\n",
       "      <th>Consumer</th>\n",
       "      <th>Corporate</th>\n",
       "      <th>Home Office</th>\n",
       "      <th>Ship_Mode</th>\n",
       "      <th>Segment</th>\n",
       "    </tr>\n",
       "  </thead>\n",
       "  <tbody>\n",
       "    <tr>\n",
       "      <th>10</th>\n",
       "      <td>CA-2011-103317</td>\n",
       "      <td>2013-07-05</td>\n",
       "      <td>NaN</td>\n",
       "      <td>242.546</td>\n",
       "      <td>NaN</td>\n",
       "      <td>First Class</td>\n",
       "      <td>Corporate</td>\n",
       "    </tr>\n",
       "    <tr>\n",
       "      <th>11</th>\n",
       "      <td>CA-2011-103366</td>\n",
       "      <td>2013-01-15</td>\n",
       "      <td>149.95</td>\n",
       "      <td>NaN</td>\n",
       "      <td>NaN</td>\n",
       "      <td>First Class</td>\n",
       "      <td>Consumer</td>\n",
       "    </tr>\n",
       "    <tr>\n",
       "      <th>13</th>\n",
       "      <td>CA-2011-103989</td>\n",
       "      <td>2013-03-19</td>\n",
       "      <td>NaN</td>\n",
       "      <td>590.762</td>\n",
       "      <td>NaN</td>\n",
       "      <td>First Class</td>\n",
       "      <td>Corporate</td>\n",
       "    </tr>\n",
       "    <tr>\n",
       "      <th>15</th>\n",
       "      <td>CA-2011-106054</td>\n",
       "      <td>2013-01-06</td>\n",
       "      <td>NaN</td>\n",
       "      <td>12.780</td>\n",
       "      <td>NaN</td>\n",
       "      <td>First Class</td>\n",
       "      <td>Corporate</td>\n",
       "    </tr>\n",
       "    <tr>\n",
       "      <th>20</th>\n",
       "      <td>CA-2011-109043</td>\n",
       "      <td>2013-08-15</td>\n",
       "      <td>243.60</td>\n",
       "      <td>NaN</td>\n",
       "      <td>NaN</td>\n",
       "      <td>First Class</td>\n",
       "      <td>Consumer</td>\n",
       "    </tr>\n",
       "  </tbody>\n",
       "</table>\n",
       "</div>"
      ],
      "text/plain": [
       "          Order ID Order Date  Consumer  Corporate  Home Office    Ship_Mode  \\\n",
       "10  CA-2011-103317 2013-07-05       NaN    242.546          NaN  First Class   \n",
       "11  CA-2011-103366 2013-01-15    149.95        NaN          NaN  First Class   \n",
       "13  CA-2011-103989 2013-03-19       NaN    590.762          NaN  First Class   \n",
       "15  CA-2011-106054 2013-01-06       NaN     12.780          NaN  First Class   \n",
       "20  CA-2011-109043 2013-08-15    243.60        NaN          NaN  First Class   \n",
       "\n",
       "      Segment  \n",
       "10  Corporate  \n",
       "11   Consumer  \n",
       "13  Corporate  \n",
       "15  Corporate  \n",
       "20   Consumer  "
      ]
     },
     "execution_count": 15,
     "metadata": {},
     "output_type": "execute_result"
    }
   ],
   "source": [
    "first_df.head()"
   ]
  },
  {
   "cell_type": "code",
   "execution_count": 16,
   "id": "a87e13d5-cd21-439b-a3dc-70377b140eb1",
   "metadata": {},
   "outputs": [
    {
     "data": {
      "text/html": [
       "<div>\n",
       "<style scoped>\n",
       "    .dataframe tbody tr th:only-of-type {\n",
       "        vertical-align: middle;\n",
       "    }\n",
       "\n",
       "    .dataframe tbody tr th {\n",
       "        vertical-align: top;\n",
       "    }\n",
       "\n",
       "    .dataframe thead th {\n",
       "        text-align: right;\n",
       "    }\n",
       "</style>\n",
       "<table border=\"1\" class=\"dataframe\">\n",
       "  <thead>\n",
       "    <tr style=\"text-align: right;\">\n",
       "      <th></th>\n",
       "      <th>Order ID</th>\n",
       "      <th>Order Date</th>\n",
       "      <th>Consumer</th>\n",
       "      <th>Corporate</th>\n",
       "      <th>Home Office</th>\n",
       "      <th>Ship_Mode</th>\n",
       "      <th>Segment</th>\n",
       "    </tr>\n",
       "  </thead>\n",
       "  <tbody>\n",
       "    <tr>\n",
       "      <th>0</th>\n",
       "      <td>CA-2011-103317</td>\n",
       "      <td>2013-07-05</td>\n",
       "      <td>NaN</td>\n",
       "      <td>242.546</td>\n",
       "      <td>NaN</td>\n",
       "      <td>First Class</td>\n",
       "      <td>Corporate</td>\n",
       "    </tr>\n",
       "    <tr>\n",
       "      <th>1</th>\n",
       "      <td>CA-2011-103366</td>\n",
       "      <td>2013-01-15</td>\n",
       "      <td>149.95</td>\n",
       "      <td>NaN</td>\n",
       "      <td>NaN</td>\n",
       "      <td>First Class</td>\n",
       "      <td>Consumer</td>\n",
       "    </tr>\n",
       "    <tr>\n",
       "      <th>2</th>\n",
       "      <td>CA-2011-103989</td>\n",
       "      <td>2013-03-19</td>\n",
       "      <td>NaN</td>\n",
       "      <td>590.762</td>\n",
       "      <td>NaN</td>\n",
       "      <td>First Class</td>\n",
       "      <td>Corporate</td>\n",
       "    </tr>\n",
       "    <tr>\n",
       "      <th>3</th>\n",
       "      <td>CA-2011-106054</td>\n",
       "      <td>2013-01-06</td>\n",
       "      <td>NaN</td>\n",
       "      <td>12.780</td>\n",
       "      <td>NaN</td>\n",
       "      <td>First Class</td>\n",
       "      <td>Corporate</td>\n",
       "    </tr>\n",
       "    <tr>\n",
       "      <th>4</th>\n",
       "      <td>CA-2011-109043</td>\n",
       "      <td>2013-08-15</td>\n",
       "      <td>243.60</td>\n",
       "      <td>NaN</td>\n",
       "      <td>NaN</td>\n",
       "      <td>First Class</td>\n",
       "      <td>Consumer</td>\n",
       "    </tr>\n",
       "  </tbody>\n",
       "</table>\n",
       "</div>"
      ],
      "text/plain": [
       "         Order ID Order Date  Consumer  Corporate  Home Office    Ship_Mode  \\\n",
       "0  CA-2011-103317 2013-07-05       NaN    242.546          NaN  First Class   \n",
       "1  CA-2011-103366 2013-01-15    149.95        NaN          NaN  First Class   \n",
       "2  CA-2011-103989 2013-03-19       NaN    590.762          NaN  First Class   \n",
       "3  CA-2011-106054 2013-01-06       NaN     12.780          NaN  First Class   \n",
       "4  CA-2011-109043 2013-08-15    243.60        NaN          NaN  First Class   \n",
       "\n",
       "     Segment  \n",
       "0  Corporate  \n",
       "1   Consumer  \n",
       "2  Corporate  \n",
       "3  Corporate  \n",
       "4   Consumer  "
      ]
     },
     "execution_count": 16,
     "metadata": {},
     "output_type": "execute_result"
    }
   ],
   "source": [
    "df = pd.concat([first_df, same_df, second_df, standard_df], ignore_index = True)\n",
    "df.head()"
   ]
  },
  {
   "cell_type": "code",
   "execution_count": 17,
   "id": "a146c7c1-461f-4084-87d9-e91ccf1823b4",
   "metadata": {},
   "outputs": [
    {
     "data": {
      "text/html": [
       "<div>\n",
       "<style scoped>\n",
       "    .dataframe tbody tr th:only-of-type {\n",
       "        vertical-align: middle;\n",
       "    }\n",
       "\n",
       "    .dataframe tbody tr th {\n",
       "        vertical-align: top;\n",
       "    }\n",
       "\n",
       "    .dataframe thead th {\n",
       "        text-align: right;\n",
       "    }\n",
       "</style>\n",
       "<table border=\"1\" class=\"dataframe\">\n",
       "  <thead>\n",
       "    <tr style=\"text-align: right;\">\n",
       "      <th></th>\n",
       "      <th>Order ID</th>\n",
       "      <th>Order Date</th>\n",
       "      <th>Consumer</th>\n",
       "      <th>Corporate</th>\n",
       "      <th>Home Office</th>\n",
       "      <th>Ship_Mode</th>\n",
       "      <th>Segment</th>\n",
       "      <th>Sales</th>\n",
       "    </tr>\n",
       "  </thead>\n",
       "  <tbody>\n",
       "    <tr>\n",
       "      <th>0</th>\n",
       "      <td>CA-2011-103317</td>\n",
       "      <td>2013-07-05</td>\n",
       "      <td>0.00</td>\n",
       "      <td>242.546</td>\n",
       "      <td>0.0</td>\n",
       "      <td>First Class</td>\n",
       "      <td>Corporate</td>\n",
       "      <td>242.546</td>\n",
       "    </tr>\n",
       "    <tr>\n",
       "      <th>1</th>\n",
       "      <td>CA-2011-103366</td>\n",
       "      <td>2013-01-15</td>\n",
       "      <td>149.95</td>\n",
       "      <td>0.000</td>\n",
       "      <td>0.0</td>\n",
       "      <td>First Class</td>\n",
       "      <td>Consumer</td>\n",
       "      <td>149.950</td>\n",
       "    </tr>\n",
       "    <tr>\n",
       "      <th>2</th>\n",
       "      <td>CA-2011-103989</td>\n",
       "      <td>2013-03-19</td>\n",
       "      <td>0.00</td>\n",
       "      <td>590.762</td>\n",
       "      <td>0.0</td>\n",
       "      <td>First Class</td>\n",
       "      <td>Corporate</td>\n",
       "      <td>590.762</td>\n",
       "    </tr>\n",
       "    <tr>\n",
       "      <th>3</th>\n",
       "      <td>CA-2011-106054</td>\n",
       "      <td>2013-01-06</td>\n",
       "      <td>0.00</td>\n",
       "      <td>12.780</td>\n",
       "      <td>0.0</td>\n",
       "      <td>First Class</td>\n",
       "      <td>Corporate</td>\n",
       "      <td>12.780</td>\n",
       "    </tr>\n",
       "    <tr>\n",
       "      <th>4</th>\n",
       "      <td>CA-2011-109043</td>\n",
       "      <td>2013-08-15</td>\n",
       "      <td>243.60</td>\n",
       "      <td>0.000</td>\n",
       "      <td>0.0</td>\n",
       "      <td>First Class</td>\n",
       "      <td>Consumer</td>\n",
       "      <td>243.600</td>\n",
       "    </tr>\n",
       "  </tbody>\n",
       "</table>\n",
       "</div>"
      ],
      "text/plain": [
       "         Order ID Order Date  Consumer  Corporate  Home Office    Ship_Mode  \\\n",
       "0  CA-2011-103317 2013-07-05      0.00    242.546          0.0  First Class   \n",
       "1  CA-2011-103366 2013-01-15    149.95      0.000          0.0  First Class   \n",
       "2  CA-2011-103989 2013-03-19      0.00    590.762          0.0  First Class   \n",
       "3  CA-2011-106054 2013-01-06      0.00     12.780          0.0  First Class   \n",
       "4  CA-2011-109043 2013-08-15    243.60      0.000          0.0  First Class   \n",
       "\n",
       "     Segment    Sales  \n",
       "0  Corporate  242.546  \n",
       "1   Consumer  149.950  \n",
       "2  Corporate  590.762  \n",
       "3  Corporate   12.780  \n",
       "4   Consumer  243.600  "
      ]
     },
     "execution_count": 17,
     "metadata": {},
     "output_type": "execute_result"
    }
   ],
   "source": [
    "df = df.fillna(0)\n",
    "df['Sales'] = df['Consumer'] + df['Corporate'] + df['Home Office']\n",
    "df.head()"
   ]
  },
  {
   "cell_type": "code",
   "execution_count": 18,
   "id": "c7bb3c64-0d15-4650-a1fb-416fd1d74fc2",
   "metadata": {},
   "outputs": [],
   "source": [
    "df.drop(columns = ['Consumer', 'Corporate', 'Home Office'], inplace = True)"
   ]
  },
  {
   "cell_type": "code",
   "execution_count": 19,
   "id": "849565b0-6da2-4dc3-9614-218aa5cb5147",
   "metadata": {},
   "outputs": [],
   "source": [
    "# Dropping grand total row\n",
    "df.drop(df[df['Sales'] == 227613.5535].index, inplace = True)"
   ]
  },
  {
   "cell_type": "code",
   "execution_count": 20,
   "id": "c9b7d23d-2344-4f43-9e52-55b195cac99c",
   "metadata": {},
   "outputs": [
    {
     "data": {
      "text/html": [
       "<div>\n",
       "<style scoped>\n",
       "    .dataframe tbody tr th:only-of-type {\n",
       "        vertical-align: middle;\n",
       "    }\n",
       "\n",
       "    .dataframe tbody tr th {\n",
       "        vertical-align: top;\n",
       "    }\n",
       "\n",
       "    .dataframe thead th {\n",
       "        text-align: right;\n",
       "    }\n",
       "</style>\n",
       "<table border=\"1\" class=\"dataframe\">\n",
       "  <thead>\n",
       "    <tr style=\"text-align: right;\">\n",
       "      <th></th>\n",
       "      <th>Order ID</th>\n",
       "      <th>Order Date</th>\n",
       "      <th>Ship_Mode</th>\n",
       "      <th>Segment</th>\n",
       "      <th>Sales</th>\n",
       "    </tr>\n",
       "  </thead>\n",
       "  <tbody>\n",
       "    <tr>\n",
       "      <th>0</th>\n",
       "      <td>CA-2011-103317</td>\n",
       "      <td>2013-07-05</td>\n",
       "      <td>First Class</td>\n",
       "      <td>Corporate</td>\n",
       "      <td>242.546</td>\n",
       "    </tr>\n",
       "    <tr>\n",
       "      <th>1</th>\n",
       "      <td>CA-2011-103366</td>\n",
       "      <td>2013-01-15</td>\n",
       "      <td>First Class</td>\n",
       "      <td>Consumer</td>\n",
       "      <td>149.950</td>\n",
       "    </tr>\n",
       "    <tr>\n",
       "      <th>2</th>\n",
       "      <td>CA-2011-103989</td>\n",
       "      <td>2013-03-19</td>\n",
       "      <td>First Class</td>\n",
       "      <td>Corporate</td>\n",
       "      <td>590.762</td>\n",
       "    </tr>\n",
       "    <tr>\n",
       "      <th>3</th>\n",
       "      <td>CA-2011-106054</td>\n",
       "      <td>2013-01-06</td>\n",
       "      <td>First Class</td>\n",
       "      <td>Corporate</td>\n",
       "      <td>12.780</td>\n",
       "    </tr>\n",
       "    <tr>\n",
       "      <th>4</th>\n",
       "      <td>CA-2011-109043</td>\n",
       "      <td>2013-08-15</td>\n",
       "      <td>First Class</td>\n",
       "      <td>Consumer</td>\n",
       "      <td>243.600</td>\n",
       "    </tr>\n",
       "  </tbody>\n",
       "</table>\n",
       "</div>"
      ],
      "text/plain": [
       "         Order ID Order Date    Ship_Mode    Segment    Sales\n",
       "0  CA-2011-103317 2013-07-05  First Class  Corporate  242.546\n",
       "1  CA-2011-103366 2013-01-15  First Class   Consumer  149.950\n",
       "2  CA-2011-103989 2013-03-19  First Class  Corporate  590.762\n",
       "3  CA-2011-106054 2013-01-06  First Class  Corporate   12.780\n",
       "4  CA-2011-109043 2013-08-15  First Class   Consumer  243.600"
      ]
     },
     "execution_count": 20,
     "metadata": {},
     "output_type": "execute_result"
    }
   ],
   "source": [
    "df.head()"
   ]
  },
  {
   "cell_type": "code",
   "execution_count": 21,
   "id": "bffe79a0-9c3e-4d8e-b908-fcfa27929b80",
   "metadata": {
    "scrolled": true
   },
   "outputs": [
    {
     "name": "stdout",
     "output_type": "stream",
     "text": [
      "<class 'pandas.core.frame.DataFrame'>\n",
      "RangeIndex: 822 entries, 0 to 821\n",
      "Data columns (total 5 columns):\n",
      " #   Column      Non-Null Count  Dtype         \n",
      "---  ------      --------------  -----         \n",
      " 0   Order ID    822 non-null    object        \n",
      " 1   Order Date  822 non-null    datetime64[ns]\n",
      " 2   Ship_Mode   822 non-null    object        \n",
      " 3   Segment     822 non-null    object        \n",
      " 4   Sales       822 non-null    float64       \n",
      "dtypes: datetime64[ns](1), float64(1), object(3)\n",
      "memory usage: 32.2+ KB\n"
     ]
    }
   ],
   "source": [
    "df.info()"
   ]
  },
  {
   "cell_type": "markdown",
   "id": "39f547bb-866b-4421-abf3-8a8e7081e0a5",
   "metadata": {},
   "source": [
    "## Cleaning Data that will be used in task 2"
   ]
  },
  {
   "cell_type": "code",
   "execution_count": 75,
   "id": "9ef5f8a4-77e9-432f-a5c9-a45c82c9d44b",
   "metadata": {},
   "outputs": [
    {
     "data": {
      "image/png": "[encoded data removed]",
      "text/plain": [
       "<Figure size 640x480 with 1 Axes>"
      ]
     },
     "metadata": {},
     "output_type": "display_data"
    }
   ],
   "source": [
    "ship_counts = df.groupby(['Ship_Mode'])['Sales'].sum()\n",
    "ship_counts.plot(kind = 'bar', rot = 0, color = ['#B18961', '#961D4E', '#110A14', '#482989'])\n",
    "plt.title('Sales by Shipping Mode')\n",
    "plt.xlabel('Ship Mode')\n",
    "plt.ylabel('Total Sales (UGX)');"
   ]
  },
  {
   "cell_type": "code",
   "execution_count": 79,
   "id": "1da1acb2-3654-49b0-95d0-7be9b01a1b14",
   "metadata": {},
   "outputs": [
    {
     "data": {
      "image/png": "[encoded data removed]",
      "text/plain": [
       "<Figure size 640x480 with 1 Axes>"
      ]
     },
     "metadata": {},
     "output_type": "display_data"
    }
   ],
   "source": [
    "ship_counts = df.groupby(['Segment'])['Sales'].sum()\n",
    "ship_counts.plot(kind = 'bar', rot = 0, color = ['#B18961', '#961D4E', '#110A14', '#482989'])\n",
    "plt.title('Sales by Segment')\n",
    "plt.xlabel('Segment')\n",
    "plt.ylabel('Total Sales (UGX)');"
   ]
  },
  {
   "cell_type": "code",
   "execution_count": 124,
   "id": "53589b9e-1615-4ac7-a554-c7a6c04ad350",
   "metadata": {},
   "outputs": [
    {
     "data": {
      "image/png": "[encoded data removed]",
      "text/plain": [
       "<Figure size 1200x600 with 1 Axes>"
      ]
     },
     "metadata": {},
     "output_type": "display_data"
    }
   ],
   "source": [
    "total_sales = df.drop(columns = ['Order ID', 'Ship_Mode', 'Segment']).set_index('Order Date').sort_index()\n",
    "total_sales.rolling(180).mean().plot(color = 'orange', \n",
    "                                            rot= 0,\n",
    "                                           figsize = (12,6),\n",
    "                                           title = 'Sales trend of the company',\n",
    "                                           ylabel = 'Average Sales',\n",
    "                                           xlabel = 'Order Date');"
   ]
  },
  {
   "cell_type": "code",
   "execution_count": 553,
   "id": "17f09ee4-7417-45c9-a84b-ad7beeb87492",
   "metadata": {},
   "outputs": [],
   "source": [
    "#total_sales.to_csv('total_sales_three.csv')"
   ]
  },
  {
   "cell_type": "code",
   "execution_count": null,
   "id": "c81ddccb-c221-45e8-bc56-20fd66d22232",
   "metadata": {},
   "outputs": [],
   "source": []
  }
 ],
 "metadata": {
  "kernelspec": {
   "display_name": "Python 3 (ipykernel)",
   "language": "python",
   "name": "python3"
  },
  "language_info": {
   "codemirror_mode": {
    "name": "ipython",
    "version": 3
   },
   "file_extension": ".py",
   "mimetype": "text/x-python",
   "name": "python",
   "nbconvert_exporter": "python",
   "pygments_lexer": "ipython3",
   "version": "3.12.3"
  }
 },
 "nbformat": 4,
 "nbformat_minor": 5
}
